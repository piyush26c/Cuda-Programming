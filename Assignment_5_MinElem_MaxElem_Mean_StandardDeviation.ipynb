{
  "nbformat": 4,
  "nbformat_minor": 0,
  "metadata": {
    "colab": {
      "name": "Assignment_5_MinElem_MaxElem_Mean_StandardDeviation.ipynb",
      "provenance": [],
      "collapsed_sections": [],
      "authorship_tag": "ABX9TyOrX3rGOQz3DxW26euXNXfn",
      "include_colab_link": true
    },
    "kernelspec": {
      "name": "python3",
      "display_name": "Python 3"
    },
    "accelerator": "GPU"
  },
  "cells": [
    {
      "cell_type": "markdown",
      "metadata": {
        "id": "view-in-github",
        "colab_type": "text"
      },
      "source": [
        "<a href=\"https://colab.research.google.com/github/piyush26c/Cuda-Programming/blob/main/Assignment_5_MinElem_MaxElem_Mean_StandardDeviation.ipynb\" target=\"_parent\"><img src=\"https://colab.research.google.com/assets/colab-badge.svg\" alt=\"Open In Colab\"/></a>"
      ]
    },
    {
      "cell_type": "code",
      "metadata": {
        "colab": {
          "base_uri": "https://localhost:8080/"
        },
        "id": "wrZKPSecYiOg",
        "outputId": "a45b247d-144d-43c2-fa42-ee19e50d7d4c"
      },
      "source": [
        "!nvcc --version"
      ],
      "execution_count": 1,
      "outputs": [
        {
          "output_type": "stream",
          "text": [
            "nvcc: NVIDIA (R) Cuda compiler driver\n",
            "Copyright (c) 2005-2019 NVIDIA Corporation\n",
            "Built on Sun_Jul_28_19:07:16_PDT_2019\n",
            "Cuda compilation tools, release 10.1, V10.1.243\n"
          ],
          "name": "stdout"
        }
      ]
    },
    {
      "cell_type": "code",
      "metadata": {
        "colab": {
          "base_uri": "https://localhost:8080/"
        },
        "id": "QkyNTwMrdO3j",
        "outputId": "974175e8-ed91-470d-d37c-4e7059e9cd42"
      },
      "source": [
        "!pip install git+git://github.com/andreinechaev/nvcc4jupyter.git"
      ],
      "execution_count": 2,
      "outputs": [
        {
          "output_type": "stream",
          "text": [
            "Collecting git+git://github.com/andreinechaev/nvcc4jupyter.git\n",
            "  Cloning git://github.com/andreinechaev/nvcc4jupyter.git to /tmp/pip-req-build-wb6by2f4\n",
            "  Running command git clone -q git://github.com/andreinechaev/nvcc4jupyter.git /tmp/pip-req-build-wb6by2f4\n",
            "Building wheels for collected packages: NVCCPlugin\n",
            "  Building wheel for NVCCPlugin (setup.py) ... \u001b[?25l\u001b[?25hdone\n",
            "  Created wheel for NVCCPlugin: filename=NVCCPlugin-0.0.2-cp36-none-any.whl size=4307 sha256=bf41d45b6f331861ce0e90ffac6bf09e37658fa145baface6a1467c97996c5f3\n",
            "  Stored in directory: /tmp/pip-ephem-wheel-cache-xu6zzdkw/wheels/10/c2/05/ca241da37bff77d60d31a9174f988109c61ba989e4d4650516\n",
            "Successfully built NVCCPlugin\n",
            "Installing collected packages: NVCCPlugin\n",
            "Successfully installed NVCCPlugin-0.0.2\n"
          ],
          "name": "stdout"
        }
      ]
    },
    {
      "cell_type": "code",
      "metadata": {
        "colab": {
          "base_uri": "https://localhost:8080/"
        },
        "id": "n_itzKwpf1fl",
        "outputId": "3867105c-322e-49df-b92a-6fe0e903ca86"
      },
      "source": [
        "%load_ext nvcc_plugin"
      ],
      "execution_count": 3,
      "outputs": [
        {
          "output_type": "stream",
          "text": [
            "created output directory at /content/src\n",
            "Out bin /content/result.out\n"
          ],
          "name": "stdout"
        }
      ]
    },
    {
      "cell_type": "code",
      "metadata": {
        "colab": {
          "base_uri": "https://localhost:8080/"
        },
        "id": "oErlNoRQ6A1C",
        "outputId": "cb962d8f-f97a-418c-cad0-3f84a8bbca8f"
      },
      "source": [
        "%%cu\n",
        "//Author : Piyush Rajendra Chaudhari\n",
        "//Roll No: BECOC311\n",
        "#include <stdio.h>\n",
        "#include <stdlib.h>\n",
        "#include <cuda.h>\n",
        "#define VECTOR_SIZE 10\n",
        "\n",
        "void fillVector (long long *vector_) {\n",
        "\tfor (int indx = 0; indx < VECTOR_SIZE; indx++) {\n",
        "\t\tvector_[indx] = indx ;\n",
        "\t}\n",
        "}\n",
        "\n",
        "void printVector (long long *vector_) {\n",
        "\tfor (int indx = 0; indx < VECTOR_SIZE; indx++) {\n",
        "\t\tprintf(\"%lld \", vector_[indx]);\n",
        "\t}\n",
        "}\n",
        "\n",
        "__global__ void findMinElem (long long *vector_) {\n",
        "\tint threadId = threadIdx.x;\n",
        "\tlong long stepSize = 1;\n",
        "\tint numberOfThreads = blockDim.x;\n",
        "\twhile (numberOfThreads > 0) {\n",
        "\t\tif (threadId < numberOfThreads) {\n",
        "\t\t\tint firstElemIndx = threadId * stepSize * 2;\n",
        "\t\t\tint secondElemIndx = firstElemIndx + stepSize;\n",
        "\t\t\tif (vector_[firstElemIndx] > vector_[secondElemIndx]) {\n",
        "\t\t\t\tvector_[firstElemIndx] = vector_[secondElemIndx];\n",
        "\t\t\t}\t\t\t\n",
        "\t\t}\n",
        "\t\tstepSize = stepSize * 2;\n",
        "\t\tnumberOfThreads = numberOfThreads / 2;\n",
        "\t}\n",
        "}\n",
        "\n",
        "\n",
        "int main (void) {\n",
        "\t//program for finding minimum element from input vector\n",
        "\tlong long *hostVector, resultMinElem;\n",
        "\tlong long *deviceVector;\n",
        "\tlong long memorySize = VECTOR_SIZE * sizeof(long long);\n",
        "\t\n",
        "\t// Allocate space for host vectors A and insert input values\n",
        "    hostVector = (long long *)malloc(memorySize); \n",
        "\tfillVector(hostVector);\n",
        "\t\n",
        "\t// Allocate space for device vectors A\n",
        "    cudaMalloc((void **)&deviceVector, memorySize);\n",
        "\t\n",
        "\t// Copy vector data from host to device\n",
        "    cudaMemcpy(deviceVector, hostVector, memorySize, cudaMemcpyHostToDevice);\n",
        "\t\n",
        "\t\n",
        "\tdim3 blocksPerGrid(1, 1, 1);\n",
        "\t//by creating single block with half of the size of vector threads.\n",
        "\tdim3 threadsPerBlock(VECTOR_SIZE / 2, 1, 1);\n",
        "\tfindMinElem<<<blocksPerGrid, threadsPerBlock>>>(deviceVector);\n",
        "\t\n",
        "\t// Copy result back to host result variable \n",
        "    cudaMemcpy(&resultMinElem, deviceVector, sizeof(long long), cudaMemcpyDeviceToHost);\n",
        "\tprintf(\"\\nFinding the Minimum Element (Parallel Programming) \");\n",
        "\tprintf(\"\\nInput Vector : \");\n",
        "\tprintVector(hostVector);\n",
        "\tprintf(\"\\nThe minimum element in given vector : %lld\", resultMinElem);\n",
        "\t\n",
        "\t\n",
        "\t\n",
        "\treturn 0;\n",
        "}"
      ],
      "execution_count": null,
      "outputs": [
        {
          "output_type": "stream",
          "text": [
            "\n",
            "Finding the Minimum Element (Parallel Programming) \n",
            "Input Vector : 0 1 2 3 4 5 6 7 8 9 \n",
            "The minimum element in given vector : 0\n"
          ],
          "name": "stdout"
        }
      ]
    },
    {
      "cell_type": "code",
      "metadata": {
        "id": "eLYs--VB4Es2",
        "outputId": "73e971a4-ebf8-4643-d977-fd51c42295fe",
        "colab": {
          "base_uri": "https://localhost:8080/"
        }
      },
      "source": [
        "%%cu\n",
        "//Author : Piyush Rajendra Chaudhari\n",
        "//Roll No: BECOC311\n",
        "#include <stdio.h>\n",
        "#include <stdlib.h>\n",
        "#include <cuda.h>\n",
        "#define VECTOR_SIZE (1 << (6))\n",
        "\n",
        "void fillVector (long long *vector_) {\n",
        "\tfor (int indx = 0; indx < VECTOR_SIZE; indx++) {\n",
        "\t\tvector_[indx] = indx + 1;\n",
        "\t}\n",
        "}\n",
        "\n",
        "void printVector (long long *vector_) {\n",
        "\tfor (int indx = 0; indx < VECTOR_SIZE; indx++) {\n",
        "\t\tprintf(\"%lld \", vector_[indx]);\n",
        "\t}\n",
        "}\n",
        "\n",
        "__global__ void findMinElem (long long *vector_) {\n",
        "\tint threadId = threadIdx.x;\n",
        "\tlong long stepSize = 1;\n",
        "\tint numberOfThreads = blockDim.x;\n",
        "\twhile (numberOfThreads > 0) {\n",
        "\t\tif (threadId < numberOfThreads) {\n",
        "\t\t\tint firstElemIndx = threadId * stepSize * 2;\n",
        "\t\t\tint secondElemIndx = firstElemIndx + stepSize;\n",
        "\t\t\tif (vector_[firstElemIndx] > vector_[secondElemIndx]) {\n",
        "\t\t\t\tvector_[firstElemIndx] = vector_[secondElemIndx];\n",
        "\t\t\t}\t\t\t\n",
        "\t\t}\n",
        "\t\tstepSize = stepSize * 2;\n",
        "\t\tnumberOfThreads = numberOfThreads / 2;\n",
        "\t}\n",
        "}\n",
        "\n",
        "__global__ void findMaxElem (long long *vector_) {\n",
        "\t\n",
        "\tint threadId = threadIdx.x;\n",
        "\tlong long stepSize = 1;\n",
        "\tint numberOfThreads = blockDim.x;\n",
        "\twhile (numberOfThreads > 0) {\n",
        "\t\tif (threadId < numberOfThreads) {\n",
        "\t\t\tint firstElemIndx = threadId * stepSize * 2;\n",
        "\t\t\tint secondElemIndx = firstElemIndx + stepSize;\n",
        "\t\t\tif (vector_[firstElemIndx] < vector_[secondElemIndx]) {\n",
        "\t\t\t\tvector_[firstElemIndx] = vector_[secondElemIndx];\n",
        "\t\t\t}\t\t\t\n",
        "\t\t}\n",
        "\t\tstepSize = stepSize * 2;\n",
        "\t\tnumberOfThreads = numberOfThreads / 2;\n",
        "\t}\t\n",
        "}\n",
        "\n",
        "\n",
        "\n",
        "int main (void) {\n",
        "\t{\n",
        "\t//program for finding minimum element from input vector\n",
        "\tlong long *hostVector, resultMinElem;\n",
        "\tlong long *deviceVector;\n",
        "\tlong long memorySize = VECTOR_SIZE * sizeof(long long);\n",
        "\t\n",
        "\t// Allocate space for host vectors A and insert input values\n",
        "    hostVector = (long long *)malloc(memorySize); \n",
        "\tfillVector(hostVector);\n",
        "\t\n",
        "\t// Allocate space for device vectors A\n",
        "    cudaMalloc((void **)&deviceVector, memorySize);\n",
        "\t\n",
        "\t// Copy vector data from host to device\n",
        "    cudaMemcpy(deviceVector, hostVector, memorySize, cudaMemcpyHostToDevice);\n",
        "\t\n",
        "\t\n",
        "\tdim3 blocksPerGrid(1, 1, 1);\n",
        "\t//by creating single block with half of the size of vector threads.\n",
        "\tdim3 threadsPerBlock(VECTOR_SIZE / 2, 1, 1);\n",
        "\tfindMinElem<<<blocksPerGrid, threadsPerBlock>>>(deviceVector);\n",
        "\t\n",
        "\t// Copy result back to host result variable \n",
        "    cudaMemcpy(&resultMinElem, deviceVector, sizeof(long long), cudaMemcpyDeviceToHost);\n",
        "\t\n",
        "\tprintf(\"\\nInput Vector : \");\n",
        "\tprintVector(hostVector);\n",
        "\tprintf(\"\\nThe minimum element in given vector : %lld\", resultMinElem);\n",
        "\t}\n",
        "\t{\n",
        "\t//program for finding maximum element from input vector\n",
        "\n",
        "\tlong long *hostVector, resultMaxElem;\n",
        "\tlong long *deviceVector;\n",
        "\tlong long memorySize = VECTOR_SIZE * sizeof(long long);\n",
        "\t\n",
        "\t// Allocate space for host vectors A and insert input values\n",
        "    hostVector = (long long *)malloc(memorySize); \n",
        "\tfillVector(hostVector);\n",
        "\t\n",
        "\t// Allocate space for device vectors A\n",
        "    cudaMalloc((void **)&deviceVector, memorySize);\n",
        "\t\n",
        "\t// Copy vector data from host to device\n",
        "    cudaMemcpy(deviceVector, hostVector, memorySize, cudaMemcpyHostToDevice);\n",
        "\t\n",
        "\t\n",
        "\tdim3 blocksPerGrid(1, 1, 1);\n",
        "\t//by creating single block with half of the size of vector threads.\n",
        "\tdim3 threadsPerBlock(VECTOR_SIZE / 2, 1, 1);\n",
        "\tfindMaxElem<<<blocksPerGrid, threadsPerBlock>>>(deviceVector);\n",
        "\t\n",
        "\t// Copy result back to host result variable \n",
        "    cudaMemcpy(&resultMaxElem, deviceVector, sizeof(long long), cudaMemcpyDeviceToHost);\n",
        "\n",
        "\tprintf(\"\\nThe maximum element in given vector : %lld\", resultMaxElem);\n",
        "\t}\n",
        "\t\n",
        "\n",
        "\treturn 0;\n",
        "}"
      ],
      "execution_count": 9,
      "outputs": [
        {
          "output_type": "stream",
          "text": [
            "\n",
            "Input Vector : 1 2 3 4 5 6 7 8 9 10 11 12 13 14 15 16 17 18 19 20 21 22 23 24 25 26 27 28 29 30 31 32 33 34 35 36 37 38 39 40 41 42 43 44 45 46 47 48 49 50 51 52 53 54 55 56 57 58 59 60 61 62 63 64 \n",
            "The minimum element in given vector : 1\n",
            "The maximum element in given vector : 64\n"
          ],
          "name": "stdout"
        }
      ]
    }
  ]
}